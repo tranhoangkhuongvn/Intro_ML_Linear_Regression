{
  "nbformat": 4,
  "nbformat_minor": 0,
  "metadata": {
    "colab": {
      "provenance": [],
      "authorship_tag": "ABX9TyNksrv90vx8jVDq8o+FBsa4",
      "include_colab_link": true
    },
    "kernelspec": {
      "name": "python3",
      "display_name": "Python 3"
    },
    "language_info": {
      "name": "python"
    }
  },
  "cells": [
    {
      "cell_type": "markdown",
      "metadata": {
        "id": "view-in-github",
        "colab_type": "text"
      },
      "source": [
        "<a href=\"https://colab.research.google.com/github/tristanmenner/Intro_MachineLearning_Workshop/blob/main/mount_IntroML_TMfork.ipynb\" target=\"_parent\"><img src=\"https://colab.research.google.com/assets/colab-badge.svg\" alt=\"Open In Colab\"/></a>"
      ]
    },
    {
      "cell_type": "code",
      "execution_count": 1,
      "metadata": {
        "colab": {
          "base_uri": "https://localhost:8080/"
        },
        "id": "j7Z10iyyRvmg",
        "outputId": "60104de5-f774-4564-cf9f-3a7b18c4ce22"
      },
      "outputs": [
        {
          "output_type": "stream",
          "name": "stdout",
          "text": [
            "Mounted at /content/drive\n"
          ]
        }
      ],
      "source": [
        "from google.colab import drive\n",
        "drive.mount('/content/drive')"
      ]
    },
    {
      "cell_type": "code",
      "source": [
        "!git clone https://github.com/tristanmenner/Intro_MachineLearning_Workshop.git"
      ],
      "metadata": {
        "colab": {
          "base_uri": "https://localhost:8080/"
        },
        "id": "VVA46U1wR2kc",
        "outputId": "1a85cebd-0e9f-496a-983a-bd5cc15fb51f"
      },
      "execution_count": 2,
      "outputs": [
        {
          "output_type": "stream",
          "name": "stdout",
          "text": [
            "Cloning into 'Intro_MachineLearning_Workshop'...\n",
            "remote: Enumerating objects: 195, done.\u001b[K\n",
            "remote: Counting objects: 100% (195/195), done.\u001b[K\n",
            "remote: Compressing objects: 100% (145/145), done.\u001b[K\n",
            "remote: Total 195 (delta 85), reused 151 (delta 45), pack-reused 0\u001b[K\n",
            "Receiving objects: 100% (195/195), 11.84 MiB | 21.31 MiB/s, done.\n",
            "Resolving deltas: 100% (85/85), done.\n"
          ]
        }
      ]
    },
    {
      "cell_type": "code",
      "source": [
        "%cd Intro_MachineLearning_Workshop/notebooks"
      ],
      "metadata": {
        "colab": {
          "base_uri": "https://localhost:8080/"
        },
        "id": "x0YaJKnaR734",
        "outputId": "ca3755a1-e62d-4a6a-cb7c-a69dd70d5177"
      },
      "execution_count": 3,
      "outputs": [
        {
          "output_type": "stream",
          "name": "stdout",
          "text": [
            "/content/Intro_MachineLearning_Workshop/notebooks\n"
          ]
        }
      ]
    },
    {
      "cell_type": "code",
      "source": [
        "!ls"
      ],
      "metadata": {
        "colab": {
          "base_uri": "https://localhost:8080/"
        },
        "id": "5g3J88n7R_3N",
        "outputId": "1a329b64-23c9-44b2-d8f7-42ebe0cf9eeb"
      },
      "execution_count": 4,
      "outputs": [
        {
          "output_type": "stream",
          "name": "stdout",
          "text": [
            "DecisionTree.ipynb\t\tKMeans_Clustering.ipynb   SVM.ipynb\n",
            "Dimensionality_Reduction.ipynb\tLinearRegression.ipynb\t  titanic_tree.dot\n",
            "EnsembleLearning.ipynb\t\tLogisticRegression.ipynb  titanic_tree.png\n",
            "iris_tree.dot\t\t\t__pycache__\t\t  utils.py\n"
          ]
        }
      ]
    }
  ]
}